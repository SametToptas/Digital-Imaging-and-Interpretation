{
 "cells": [
  {
   "cell_type": "code",
   "execution_count": 10,
   "metadata": {},
   "outputs": [],
   "source": [
    "# QUESTION - 1\n",
    "\n",
    "# A) Split the given RGB image into 3 different grayscale images, and save the outputs in “tif” format. (5 points)\n",
    "\n",
    "import cv2\n",
    "from matplotlib import pyplot as plt\n",
    "\n",
    "# Reading original image\n",
    "img=cv2.imread(\"Sarikamis.jpg\")\n",
    "\n",
    "# Splitting as RGB\n",
    "Blue=img[:,:,0] \n",
    "Green=img[:,:,1]\n",
    "Red=img[:,:,2]\n",
    "\n",
    "# Showing Channels as RGB and original img\n",
    "cv2.imshow('Original Image',img)\n",
    "cv2.imshow('Blue Channel',Blue)\n",
    "cv2.imshow('Green Channel',Green)\n",
    "cv2.imshow('Red Channel',Red)\n",
    "# Saving Channels as .tif\n",
    "cv2.imwrite(\"New_Blue_Image.tif\", Blue)\n",
    "cv2.imwrite(\"New_Red_Image.tif\", Green)\n",
    "cv2.imwrite(\"New_Green_Image.tif\", Red)\n",
    "cv2.waitKey(0)\n",
    "cv2.destroyAllWindows()"
   ]
  },
  {
   "cell_type": "code",
   "execution_count": 11,
   "metadata": {},
   "outputs": [
    {
     "data": {
      "image/png": "[encoded data removed]",
      "text/plain": [
       "<Figure size 432x288 with 1 Axes>"
      ]
     },
     "metadata": {
      "needs_background": "light"
     },
     "output_type": "display_data"
    },
    {
     "data": {
      "image/png": "[encoded data removed]",
      "text/plain": [
       "<Figure size 432x288 with 1 Axes>"
      ]
     },
     "metadata": {
      "needs_background": "light"
     },
     "output_type": "display_data"
    },
    {
     "data": {
      "image/png": "[encoded data removed]",
      "text/plain": [
       "<Figure size 432x288 with 1 Axes>"
      ]
     },
     "metadata": {
      "needs_background": "light"
     },
     "output_type": "display_data"
    }
   ],
   "source": [
    "# B) Create histogram of each grayscale image created in (a). (5 points)\n",
    "\n",
    "# Reading images\n",
    "Blue_Image = cv2.imread('New_Blue_Image.tif',0)\n",
    "Green_Image = cv2.imread('New_Red_Image.tif',0) \n",
    "Red_Image = cv2.imread('New_Green_Image.tif',0) \n",
    "\n",
    "# Finding histograms of all grayscale images in the 0-255 band\n",
    "# Blue image histogram\n",
    "plt.hist(Blue_Image.ravel(),256,[0,256])\n",
    "plt.title('Blue Image')\n",
    "plt.show()\n",
    "# Green image histogram\n",
    "plt.hist(Green_Image.ravel(),256,[0,256])\n",
    "plt.title('Green Image')\n",
    "plt.show()\n",
    "# Red image histogram\n",
    "plt.hist(Red_Image.ravel(),256,[0,256])\n",
    "plt.title('Red Image')\n",
    "plt.show()"
   ]
  },
  {
   "cell_type": "code",
   "execution_count": 12,
   "metadata": {},
   "outputs": [],
   "source": [
    "# C) Create a new RGB image by adding 60 to all grayscale images created in (a). (5 points) \n",
    "# (must be done without a python library)\n",
    "\n",
    "# Creating a new RGB by adding 60\n",
    "(h, w) = Blue.shape\n",
    "\n",
    "for i in range(h):\n",
    "    for j in range(w):\n",
    "        Blue[i,j]=Blue[i,j]+60\n",
    "\n",
    "for i in range(h):\n",
    "    for j in range(w):\n",
    "        Red[i,j]=Red[i,j]+60\n",
    "\n",
    "for i in range(h):\n",
    "    for j in range(w):\n",
    "        Green[i,j]=Green[i,j]\n",
    "\n",
    "# Showing Channels as RGB\n",
    "cv2.imshow('New_Green_Channel',Green)\n",
    "cv2.imshow('New_Blue_Channel',Blue)\n",
    "cv2.imshow('New_Red_Channel',Red)\n",
    "cv2.waitKey(0)\n",
    "cv2.destroyAllWindows()"
   ]
  },
  {
   "cell_type": "code",
   "execution_count": 13,
   "metadata": {},
   "outputs": [
    {
     "name": "stdout",
     "output_type": "stream",
     "text": [
      "(523, 698)\n",
      "the total number of pixels covered by the pine trees: 59881\n"
     ]
    }
   ],
   "source": [
    "# D) With the help of one the grayscale images created in (a), design and develop an algorithm (using a python code) that \n",
    "# automatically counts total number of pixels covered by the pine trees.(25 points)(must be done without a python library)\n",
    "import cv2\n",
    "import numpy as np\n",
    "\n",
    "print(Green.shape)\n",
    "(h,w)=Green.shape\n",
    "\n",
    "# A threshold range has been set\n",
    "for i in range(h):\n",
    "    for j in range(w):\n",
    "        if Green[i,j]>50:\n",
    "            Green[i,j]=255\n",
    "        else:\n",
    "            Green[i,j]=0\n",
    "# An algorithm that counts total pixels\n",
    "num = 0\n",
    "for i in range(h):\n",
    "    for j in range(w):\n",
    "        if Green[i,j] == 0:\n",
    "            num = (num +1)\n",
    "            continue\n",
    "\n",
    "print(f'the total number of pixels covered by the pine trees: {round(num)}')\n",
    "cv2.imshow('Dark Trees',Green)\n",
    "cv2.waitKey(0)\n",
    "cv2.destroyAllWindows()"
   ]
  },
  {
   "cell_type": "code",
   "execution_count": 14,
   "metadata": {
    "scrolled": true
   },
   "outputs": [
    {
     "name": "stdout",
     "output_type": "stream",
     "text": [
      "(240, 320)\n",
      "the total number of cars: 5\n"
     ]
    }
   ],
   "source": [
    "# QUESTION - 2\n",
    "# You are given a screenshot image of a highway scene (image1.png). Besides, an image without any foreground objects \n",
    "# is given (image0.png). Design and develop an algorithm (using a python code) that automatically counts the total number \n",
    "# of cars in the given highway screenshot image. (30 points) (must be done without a python library)\n",
    "\n",
    "import cv2\n",
    "import numpy as np\n",
    "\n",
    "# Reading images\n",
    "img1=cv2.imread(\"image1.png\")\n",
    "img0=cv2.imread(\"image0.png\")\n",
    "\n",
    "# Assigned to the same bands\n",
    "image1=img1[:,:,0]\n",
    "image0=img0[:,:,0]\n",
    "\n",
    "# Print the car image and create a zero matrix\n",
    "print(image1.shape)\n",
    "(h,w)=image1.shape\n",
    "empty_img=np.zeros((h,w))\n",
    "\n",
    "# Get the difference of pixel values and determine the change\n",
    "for i in range(h):\n",
    "    for j in range(w):\n",
    "        empty_img[i,j]=int(image0[i,j])-int(image1[i,j]) \n",
    "        if empty_img[i,j]<150 and empty_img[i,j]>40:\n",
    "            empty_img[i,j]=255                           \n",
    "\n",
    "        else:\n",
    "            empty_img[i,j]=0\n",
    "\n",
    "# Finding the number of cars\n",
    "number = 0\n",
    "for i in range(h):\n",
    "    for j in range(w):\n",
    "        if empty_img[i,j] == 255:\n",
    "            number = (number +1)\n",
    "            continue\n",
    "print(f'the total number of cars: {round(number/400)}')\n",
    "\n",
    "# Showing Channels as Threshold and original img\n",
    "cv2.imshow('threshold_image1',empty_img)\n",
    "cv2.imshow(\"image1\",image1)\n",
    "cv2.waitKey(0)\n",
    "cv2.destroyAllWindows()"
   ]
  },
  {
   "cell_type": "code",
   "execution_count": 15,
   "metadata": {},
   "outputs": [],
   "source": [
    "# QUESTION - 3    ((FIRST WAY)) - Median Filter\n",
    "# Find at least two different ways to digitally improve the quality of this picture with a Python code \n",
    "# (30 points). (must be done without a python library)\n",
    "\n",
    "import cv2\n",
    "import numpy as np\n",
    "  \n",
    "# Reading image\n",
    "img = cv2.imread('Portrait_of_a_Young_Woman.jpg', 0)\n",
    " \n",
    "# Set the number of rows and columns\n",
    "h, w = img.shape\n",
    "  \n",
    "# hover image pixels by creating matrix and find median value\n",
    "new_median_image = np.zeros([h, w])\n",
    "for i in range(1,h-1):\n",
    "    for j in range(1,w-1):\n",
    "        pix = [img[i-1, j-1],\n",
    "               img[i-1, j],\n",
    "               img[i-1, j + 1],\n",
    "               img[i, j-1],\n",
    "               img[i, j],\n",
    "               img[i, j + 1],\n",
    "               img[i + 1, j-1],\n",
    "               img[i + 1, j],\n",
    "               img[i + 1, j + 1]]\n",
    "\n",
    "        pix = sorted(pix)\n",
    "        new_median_image[i, j]= pix[4]      \n",
    "new_median_image= new_median_image.astype(np.uint8)\n",
    "\n",
    "# Showing Channels as Median Filter and original img\n",
    "cv2.imshow('Original Image',img)\n",
    "cv2.imshow('Median Filter',new_median_image)\n",
    "cv2.imwrite('new_median_filtered.jpg', new_median_image)\n",
    "cv2.waitKey(0)\n",
    "cv2.destroyAllWindows()"
   ]
  },
  {
   "cell_type": "code",
   "execution_count": 16,
   "metadata": {},
   "outputs": [],
   "source": [
    "# QUESTION - 3   ((SECOND WAY)) - Mean Filter\n",
    "# Find at least two different ways to digitally improve the quality of this picture with a Python code \n",
    "# (30 points). (must be done without a python library)\n",
    "\n",
    "import cv2\n",
    "import numpy as np\n",
    "   \n",
    "# Reading image\n",
    "img = cv2.imread('Portrait_of_a_Young_Woman.jpg', 0)\n",
    " \n",
    "# Set the number of rows and columns\n",
    "h, w = img.shape\n",
    "  \n",
    "# Creating a unique 3x3 matrix\n",
    "uniq = np.ones([3, 3], dtype = int)\n",
    "# Multiply the unit matrix by 1/9\n",
    "uniq = uniq / 9\n",
    "  \n",
    "# Convolve the 3X3 mask over the image\n",
    "mean_img = np.zeros([h, w])\n",
    " \n",
    "for i in range(1, h-1):\n",
    "    for j in range(1, w-1):\n",
    "        pix = img[i-1, j-1]*uniq[0, 0]+img[i-1, j]*uniq[0, 1]+img[i-1, j + 1]*uniq[0, 2]+img[i, j-1]*uniq[1, 0]+ img[i, j]*uniq[1, 1]+img[i, j + 1]*uniq[1, 2]+img[i + 1, j-1]*uniq[2, 0]+img[i + 1, j]*uniq[2, 1]+img[i + 1, j + 1]*uniq[2, 2]\n",
    "        \n",
    "        mean_img[i, j]= pix\n",
    "         \n",
    "mean_img = mean_img.astype(np.uint8)\n",
    "cv2.imshow('original image',img)\n",
    "cv2.imshow('mean filter',mean_img)\n",
    "cv2.imwrite('new_mean_filter.jpg', mean_img)\n",
    "cv2.waitKey(0)\n",
    "cv2.destroyAllWindows()"
   ]
  },
  {
   "cell_type": "code",
   "execution_count": null,
   "metadata": {},
   "outputs": [],
   "source": []
  }
 ],
 "metadata": {
  "kernelspec": {
   "display_name": "Python 3",
   "language": "python",
   "name": "python3"
  },
  "language_info": {
   "codemirror_mode": {
    "name": "ipython",
    "version": 3
   },
   "file_extension": ".py",
   "mimetype": "text/x-python",
   "name": "python",
   "nbconvert_exporter": "python",
   "pygments_lexer": "ipython3",
   "version": "3.8.3"
  }
 },
 "nbformat": 4,
 "nbformat_minor": 4
}
